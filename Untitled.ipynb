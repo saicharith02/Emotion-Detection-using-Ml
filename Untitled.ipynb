{
 "cells": [
  {
   "cell_type": "code",
   "execution_count": null,
   "id": "0f1d9b51",
   "metadata": {},
   "outputs": [],
   "source": []
  },
  {
   "cell_type": "code",
   "execution_count": 25,
   "id": "837fe277",
   "metadata": {},
   "outputs": [],
   "source": [
    "import numpy as np\n",
    "import pandas as pd\n",
    "import os\n",
    "import librosa\n",
    "import librosa.display\n",
    "import matplotlib.pyplot as plt\n",
    "\n",
    "import warnings\n",
    "warnings.filterwarnings(\"ignore\")"
   ]
  },
  {
   "cell_type": "code",
   "execution_count": 26,
   "id": "e497bd36",
   "metadata": {},
   "outputs": [
    {
     "name": "stdout",
     "output_type": "stream",
     "text": [
      "Dataset is Loaded\n"
     ]
    }
   ],
   "source": [
    "paths,labels=[],[]\n",
    "for dirname,_,filenames in os.walk(\"dataset\"):\n",
    "    for filename in filenames:\n",
    "        paths.append(os.path.join(dirname,filename))\n",
    "    \n",
    "        label=filename.split(\"_\")[-1]\n",
    "        label=label.split(\".\")[0]\n",
    "        labels.append(label.lower())\n",
    "\n",
    "print(\"Dataset is Loaded\")"
   ]
  },
  {
   "cell_type": "code",
   "execution_count": 27,
   "id": "1398edbb",
   "metadata": {},
   "outputs": [
    {
     "data": {
      "text/plain": [
       "['dataset\\\\OAF_angry\\\\OAF_back_angry.wav',\n",
       " 'dataset\\\\OAF_angry\\\\OAF_bar_angry.wav',\n",
       " 'dataset\\\\OAF_angry\\\\OAF_base_angry.wav',\n",
       " 'dataset\\\\OAF_angry\\\\OAF_bath_angry.wav',\n",
       " 'dataset\\\\OAF_angry\\\\OAF_bean_angry.wav']"
      ]
     },
     "execution_count": 27,
     "metadata": {},
     "output_type": "execute_result"
    }
   ],
   "source": [
    "paths[:5]"
   ]
  },
  {
   "cell_type": "code",
   "execution_count": 28,
   "id": "368b0577",
   "metadata": {},
   "outputs": [
    {
     "data": {
      "text/plain": [
       "['angry', 'angry', 'angry', 'angry', 'angry']"
      ]
     },
     "execution_count": 28,
     "metadata": {},
     "output_type": "execute_result"
    }
   ],
   "source": [
    "labels[:5]"
   ]
  },
  {
   "cell_type": "code",
   "execution_count": 29,
   "id": "63c1af37",
   "metadata": {},
   "outputs": [
    {
     "data": {
      "text/html": [
       "<div>\n",
       "<style scoped>\n",
       "    .dataframe tbody tr th:only-of-type {\n",
       "        vertical-align: middle;\n",
       "    }\n",
       "\n",
       "    .dataframe tbody tr th {\n",
       "        vertical-align: top;\n",
       "    }\n",
       "\n",
       "    .dataframe thead th {\n",
       "        text-align: right;\n",
       "    }\n",
       "</style>\n",
       "<table border=\"1\" class=\"dataframe\">\n",
       "  <thead>\n",
       "    <tr style=\"text-align: right;\">\n",
       "      <th></th>\n",
       "      <th>speech</th>\n",
       "      <th>label</th>\n",
       "    </tr>\n",
       "  </thead>\n",
       "  <tbody>\n",
       "    <tr>\n",
       "      <th>0</th>\n",
       "      <td>dataset\\OAF_angry\\OAF_back_angry.wav</td>\n",
       "      <td>angry</td>\n",
       "    </tr>\n",
       "    <tr>\n",
       "      <th>1</th>\n",
       "      <td>dataset\\OAF_angry\\OAF_bar_angry.wav</td>\n",
       "      <td>angry</td>\n",
       "    </tr>\n",
       "    <tr>\n",
       "      <th>2</th>\n",
       "      <td>dataset\\OAF_angry\\OAF_base_angry.wav</td>\n",
       "      <td>angry</td>\n",
       "    </tr>\n",
       "    <tr>\n",
       "      <th>3</th>\n",
       "      <td>dataset\\OAF_angry\\OAF_bath_angry.wav</td>\n",
       "      <td>angry</td>\n",
       "    </tr>\n",
       "    <tr>\n",
       "      <th>4</th>\n",
       "      <td>dataset\\OAF_angry\\OAF_bean_angry.wav</td>\n",
       "      <td>angry</td>\n",
       "    </tr>\n",
       "    <tr>\n",
       "      <th>...</th>\n",
       "      <td>...</td>\n",
       "      <td>...</td>\n",
       "    </tr>\n",
       "    <tr>\n",
       "      <th>2795</th>\n",
       "      <td>dataset\\YAF_sad\\YAF_witch_sad.wav</td>\n",
       "      <td>sad</td>\n",
       "    </tr>\n",
       "    <tr>\n",
       "      <th>2796</th>\n",
       "      <td>dataset\\YAF_sad\\YAF_yearn_sad.wav</td>\n",
       "      <td>sad</td>\n",
       "    </tr>\n",
       "    <tr>\n",
       "      <th>2797</th>\n",
       "      <td>dataset\\YAF_sad\\YAF_yes_sad.wav</td>\n",
       "      <td>sad</td>\n",
       "    </tr>\n",
       "    <tr>\n",
       "      <th>2798</th>\n",
       "      <td>dataset\\YAF_sad\\YAF_young_sad.wav</td>\n",
       "      <td>sad</td>\n",
       "    </tr>\n",
       "    <tr>\n",
       "      <th>2799</th>\n",
       "      <td>dataset\\YAF_sad\\YAF_youth_sad.wav</td>\n",
       "      <td>sad</td>\n",
       "    </tr>\n",
       "  </tbody>\n",
       "</table>\n",
       "<p>2800 rows × 2 columns</p>\n",
       "</div>"
      ],
      "text/plain": [
       "                                    speech  label\n",
       "0     dataset\\OAF_angry\\OAF_back_angry.wav  angry\n",
       "1      dataset\\OAF_angry\\OAF_bar_angry.wav  angry\n",
       "2     dataset\\OAF_angry\\OAF_base_angry.wav  angry\n",
       "3     dataset\\OAF_angry\\OAF_bath_angry.wav  angry\n",
       "4     dataset\\OAF_angry\\OAF_bean_angry.wav  angry\n",
       "...                                    ...    ...\n",
       "2795     dataset\\YAF_sad\\YAF_witch_sad.wav    sad\n",
       "2796     dataset\\YAF_sad\\YAF_yearn_sad.wav    sad\n",
       "2797       dataset\\YAF_sad\\YAF_yes_sad.wav    sad\n",
       "2798     dataset\\YAF_sad\\YAF_young_sad.wav    sad\n",
       "2799     dataset\\YAF_sad\\YAF_youth_sad.wav    sad\n",
       "\n",
       "[2800 rows x 2 columns]"
      ]
     },
     "execution_count": 29,
     "metadata": {},
     "output_type": "execute_result"
    }
   ],
   "source": [
    "df=pd.DataFrame()\n",
    "df[\"speech\"]=paths\n",
    "df[\"label\"]=labels\n",
    "df"
   ]
  },
  {
   "cell_type": "code",
   "execution_count": 30,
   "id": "5c4d16a8",
   "metadata": {},
   "outputs": [
    {
     "data": {
      "text/plain": [
       "angry      400\n",
       "disgust    400\n",
       "fear       400\n",
       "happy      400\n",
       "neutral    400\n",
       "ps         400\n",
       "sad        400\n",
       "Name: label, dtype: int64"
      ]
     },
     "execution_count": 30,
     "metadata": {},
     "output_type": "execute_result"
    }
   ],
   "source": [
    "df[\"label\"].value_counts()"
   ]
  },
  {
   "cell_type": "raw",
   "id": "e1cf67dd",
   "metadata": {},
   "source": [
    "\n"
   ]
  },
  {
   "cell_type": "code",
   "execution_count": 31,
   "id": "de8f6466",
   "metadata": {},
   "outputs": [],
   "source": [
    "def extract_mfcc(filename):\n",
    "    y,sr=librosa.load(filename,duration=3,offset=0.5)\n",
    "    mfcc=np.mean(librosa.feature.mfcc(y=y,sr=sr,n_mfcc=40).T,axis=0)\n",
    "    return mfcc"
   ]
  },
  {
   "cell_type": "code",
   "execution_count": 32,
   "id": "f375e752",
   "metadata": {},
   "outputs": [
    {
     "data": {
      "text/plain": [
       "array([-3.96986206e+02,  7.74405365e+01, -1.95927906e+01, -2.16666889e+01,\n",
       "       -2.11275506e+00,  1.00753632e+01, -2.03667068e+01, -6.09244919e+00,\n",
       "       -7.21228361e+00, -5.57365894e-01, -1.83255327e+00,  2.02101514e-01,\n",
       "        7.27551103e-01,  1.31773770e+00,  2.88633752e+00,  2.85579133e+00,\n",
       "       -4.71292162e+00, -4.43651056e+00, -1.62115920e+00, -1.02398405e+01,\n",
       "       -7.55126143e+00, -1.79688025e+00, -7.03765202e+00,  9.43658447e+00,\n",
       "        8.35585499e+00,  2.17123604e+01,  1.92169895e+01,  2.03489265e+01,\n",
       "        1.34133663e+01,  8.33917141e+00,  3.94722402e-01,  5.11131477e+00,\n",
       "        9.56873894e+00,  5.45486784e+00,  2.50996375e+00, -1.82390714e+00,\n",
       "        4.86896276e+00,  9.31392384e+00,  2.08915019e+00, -1.90649128e+00],\n",
       "      dtype=float32)"
      ]
     },
     "execution_count": 32,
     "metadata": {},
     "output_type": "execute_result"
    }
   ],
   "source": [
    "extract_mfcc(df[\"speech\"][0])"
   ]
  },
  {
   "cell_type": "code",
   "execution_count": 33,
   "id": "e0cfedc3",
   "metadata": {},
   "outputs": [],
   "source": [
    "X_mfcc=df[\"speech\"].apply(lambda x:extract_mfcc(x))"
   ]
  },
  {
   "cell_type": "code",
   "execution_count": 34,
   "id": "ff4fc87f",
   "metadata": {},
   "outputs": [
    {
     "data": {
      "text/plain": [
       "0       [-396.9862, 77.44054, -19.59279, -21.666689, -...\n",
       "1       [-465.73267, 98.77373, 0.65600896, -32.74544, ...\n",
       "2       [-429.79196, 46.124, 1.5550478, -0.21709539, 2...\n",
       "3       [-403.46118, 76.32369, -12.531774, -22.288858,...\n",
       "4       [-434.05756, 77.4455, 10.8655, 16.092943, 8.04...\n",
       "                              ...                        \n",
       "2795    [-406.48053, 80.379875, 32.462395, 46.579094, ...\n",
       "2796    [-426.90918, 102.54757, 24.800041, 43.048096, ...\n",
       "2797    [-378.50494, 80.91062, 35.300533, 39.74792, -4...\n",
       "2798    [-434.8618, 89.906364, 28.373262, 39.57707, -2...\n",
       "2799    [-421.8341, 70.69788, 32.476387, 45.642555, 4....\n",
       "Name: speech, Length: 2800, dtype: object"
      ]
     },
     "execution_count": 34,
     "metadata": {},
     "output_type": "execute_result"
    }
   ],
   "source": [
    "X_mfcc"
   ]
  },
  {
   "cell_type": "code",
   "execution_count": 35,
   "id": "3eb1d63c",
   "metadata": {},
   "outputs": [
    {
     "data": {
      "text/plain": [
       "(2800, 40)"
      ]
     },
     "execution_count": 35,
     "metadata": {},
     "output_type": "execute_result"
    }
   ],
   "source": [
    "X=[x for x in X_mfcc]\n",
    "X=np.array(X)\n",
    "X.shape"
   ]
  },
  {
   "cell_type": "code",
   "execution_count": 36,
   "id": "f9c47831",
   "metadata": {},
   "outputs": [
    {
     "data": {
      "text/plain": [
       "array([[[-396.9862    ],\n",
       "        [  77.44054   ],\n",
       "        [ -19.59279   ],\n",
       "        ...,\n",
       "        [   9.313924  ],\n",
       "        [   2.0891502 ],\n",
       "        [  -1.9064913 ]],\n",
       "\n",
       "       [[-465.73267   ],\n",
       "        [  98.77373   ],\n",
       "        [   0.65600896],\n",
       "        ...,\n",
       "        [   8.680707  ],\n",
       "        [   4.173659  ],\n",
       "        [   3.258969  ]],\n",
       "\n",
       "       [[-429.79196   ],\n",
       "        [  46.124     ],\n",
       "        [   1.5550478 ],\n",
       "        ...,\n",
       "        [   8.633682  ],\n",
       "        [  -2.4228284 ],\n",
       "        [  -2.346131  ]],\n",
       "\n",
       "       ...,\n",
       "\n",
       "       [[-378.50494   ],\n",
       "        [  80.91062   ],\n",
       "        [  35.300533  ],\n",
       "        ...,\n",
       "        [   6.463878  ],\n",
       "        [   4.5451474 ],\n",
       "        [   7.043936  ]],\n",
       "\n",
       "       [[-434.8618    ],\n",
       "        [  89.906364  ],\n",
       "        [  28.373262  ],\n",
       "        ...,\n",
       "        [  10.526768  ],\n",
       "        [  11.808918  ],\n",
       "        [  10.119673  ]],\n",
       "\n",
       "       [[-421.8341    ],\n",
       "        [  70.69788   ],\n",
       "        [  32.476387  ],\n",
       "        ...,\n",
       "        [   5.080212  ],\n",
       "        [   5.1315765 ],\n",
       "        [   6.3598347 ]]], dtype=float32)"
      ]
     },
     "execution_count": 36,
     "metadata": {},
     "output_type": "execute_result"
    }
   ],
   "source": [
    "X=np.expand_dims(X,-1)\n",
    "X"
   ]
  },
  {
   "cell_type": "code",
   "execution_count": 37,
   "id": "01ff1271",
   "metadata": {},
   "outputs": [],
   "source": [
    "from sklearn.preprocessing import OneHotEncoder\n",
    "enc=OneHotEncoder()\n",
    "y=enc.fit_transform(df[[\"label\"]])\n"
   ]
  },
  {
   "cell_type": "code",
   "execution_count": 38,
   "id": "6920814e",
   "metadata": {},
   "outputs": [],
   "source": [
    "y=y.toarray()\n",
    "\n"
   ]
  },
  {
   "cell_type": "code",
   "execution_count": 15,
   "id": "2fb08907",
   "metadata": {},
   "outputs": [
    {
     "name": "stdout",
     "output_type": "stream",
     "text": [
      "Requirement already satisfied: protobuf==3.20.0 in c:\\users\\saicharith\\anaconda3\\lib\\site-packages (3.20.0)\n",
      "Note: you may need to restart the kernel to use updated packages.\n"
     ]
    },
    {
     "name": "stderr",
     "output_type": "stream",
     "text": [
      "WARNING: Ignoring invalid distribution -rotobuf (c:\\users\\saicharith\\anaconda3\\lib\\site-packages)\n",
      "WARNING: Ignoring invalid distribution -rotobuf (c:\\users\\saicharith\\anaconda3\\lib\\site-packages)\n",
      "WARNING: Ignoring invalid distribution -rotobuf (c:\\users\\saicharith\\anaconda3\\lib\\site-packages)\n",
      "WARNING: Ignoring invalid distribution -rotobuf (c:\\users\\saicharith\\anaconda3\\lib\\site-packages)\n",
      "WARNING: Ignoring invalid distribution -rotobuf (c:\\users\\saicharith\\anaconda3\\lib\\site-packages)\n",
      "WARNING: Ignoring invalid distribution -rotobuf (c:\\users\\saicharith\\anaconda3\\lib\\site-packages)\n"
     ]
    }
   ],
   "source": [
    "pip install --upgrade protobuf==3.20.0\n"
   ]
  },
  {
   "cell_type": "code",
   "execution_count": null,
   "id": "822d5c41",
   "metadata": {},
   "outputs": [],
   "source": []
  },
  {
   "cell_type": "code",
   "execution_count": 39,
   "id": "168a065e",
   "metadata": {},
   "outputs": [
    {
     "name": "stdout",
     "output_type": "stream",
     "text": [
      "Model: \"sequential_1\"\n",
      "_________________________________________________________________\n",
      " Layer (type)                Output Shape              Param #   \n",
      "=================================================================\n",
      " lstm_1 (LSTM)               (None, 123)               61500     \n",
      "                                                                 \n",
      " dense_3 (Dense)             (None, 64)                7936      \n",
      "                                                                 \n",
      " dropout_2 (Dropout)         (None, 64)                0         \n",
      "                                                                 \n",
      " dense_4 (Dense)             (None, 32)                2080      \n",
      "                                                                 \n",
      " dropout_3 (Dropout)         (None, 32)                0         \n",
      "                                                                 \n",
      " dense_5 (Dense)             (None, 7)                 231       \n",
      "                                                                 \n",
      "=================================================================\n",
      "Total params: 71,747\n",
      "Trainable params: 71,747\n",
      "Non-trainable params: 0\n",
      "_________________________________________________________________\n"
     ]
    }
   ],
   "source": [
    "# from keras.models import Sequential\n",
    "# from keras.layers import Dense,LSTM,Dropout\n",
    "# model=Sequential([\n",
    "#     LSTM(123,return_sequences=False,input_shape=(40,1)),\n",
    "#     Dense(64,activation=\"relu\"), Dropout(0.2),\n",
    "#     Dense(32,activation=\"relu\") ,Dropout(0.2),\n",
    "#     Dense(7,activation=\"softmax\")\n",
    "    \n",
    "# ])\n",
    "# model.compile(loss=\"categorical_crossentropy\",optimizer=\"adam\",metrics=[\"accuracy\"])\n",
    "# model.summary()\n",
    "\n",
    "# from keras.models import Sequential\n",
    "# from keras.layers import Dense, LSTM, Dropout\n",
    "\n",
    "# model = Sequential([\n",
    "#     LSTM(123, return_sequences=False, input_shape=(40,1)),\n",
    "#     Dense(64, activation=\"relu\"), \n",
    "#     Dropout(0.2),\n",
    "#     Dense(32, activation=\"relu\"), \n",
    "#     Dropout(0.2),\n",
    "#     Dense(7, activation=\"softmax\")   \n",
    "# ])\n",
    "\n",
    "# model.compile(loss=\"categorical_crossentropy\", optimizer=\"adam\", metrics=[\"accuracy\"])\n",
    "# model.summary()\n",
    "\n",
    "from keras.models import Sequential\n",
    "from keras.layers import Dense, LSTM, Dropout\n",
    "import keras\n",
    "from keras import layers\n",
    "model = Sequential()\n",
    "model.add(LSTM(123, return_sequences=False, input_shape=(40,1)))\n",
    "model.add(Dense(64, activation=\"relu\"))\n",
    "model.add(Dropout(0.2))\n",
    "model.add(Dense(32, activation=\"relu\"))\n",
    "model.add(Dropout(0.2))\n",
    "model.add(Dense(7, activation=\"softmax\"))\n",
    "\n",
    "model.compile(loss=\"categorical_crossentropy\", optimizer=\"adam\", metrics=[\"accuracy\"])\n",
    "model.summary()\n",
    "\n"
   ]
  },
  {
   "cell_type": "code",
   "execution_count": 40,
   "id": "5b582c72",
   "metadata": {},
   "outputs": [
    {
     "name": "stdout",
     "output_type": "stream",
     "text": [
      "Epoch 1/100\n",
      "5/5 [==============================] - 5s 348ms/step - loss: 1.8938 - accuracy: 0.2661 - val_loss: 2.0506 - val_accuracy: 0.2304\n",
      "Epoch 2/100\n",
      "5/5 [==============================] - 1s 270ms/step - loss: 1.7242 - accuracy: 0.4018 - val_loss: 2.2954 - val_accuracy: 0.1696\n",
      "Epoch 3/100\n",
      "5/5 [==============================] - 1s 217ms/step - loss: 1.5356 - accuracy: 0.4701 - val_loss: 2.3951 - val_accuracy: 0.1821\n",
      "Epoch 4/100\n",
      "5/5 [==============================] - 1s 246ms/step - loss: 1.2906 - accuracy: 0.5549 - val_loss: 2.4425 - val_accuracy: 0.2429\n",
      "Epoch 5/100\n",
      "5/5 [==============================] - 1s 216ms/step - loss: 1.0967 - accuracy: 0.6165 - val_loss: 2.3858 - val_accuracy: 0.2643\n",
      "Epoch 6/100\n",
      "5/5 [==============================] - 1s 238ms/step - loss: 0.9453 - accuracy: 0.6629 - val_loss: 2.3791 - val_accuracy: 0.3536\n",
      "Epoch 7/100\n",
      "5/5 [==============================] - 1s 241ms/step - loss: 0.8553 - accuracy: 0.6879 - val_loss: 2.2259 - val_accuracy: 0.3500\n",
      "Epoch 8/100\n",
      "5/5 [==============================] - 1s 171ms/step - loss: 0.7575 - accuracy: 0.7152 - val_loss: 2.1471 - val_accuracy: 0.4732\n",
      "Epoch 9/100\n",
      "5/5 [==============================] - 1s 266ms/step - loss: 0.6662 - accuracy: 0.7683 - val_loss: 2.0308 - val_accuracy: 0.5339\n",
      "Epoch 10/100\n",
      "5/5 [==============================] - 1s 178ms/step - loss: 0.5954 - accuracy: 0.7902 - val_loss: 2.0753 - val_accuracy: 0.4411\n",
      "Epoch 11/100\n",
      "5/5 [==============================] - 1s 196ms/step - loss: 0.5127 - accuracy: 0.8241 - val_loss: 1.8130 - val_accuracy: 0.4714\n",
      "Epoch 12/100\n",
      "5/5 [==============================] - 1s 257ms/step - loss: 0.4681 - accuracy: 0.8406 - val_loss: 2.0198 - val_accuracy: 0.5036\n",
      "Epoch 13/100\n",
      "5/5 [==============================] - 1s 183ms/step - loss: 0.4035 - accuracy: 0.8607 - val_loss: 1.9875 - val_accuracy: 0.5036\n",
      "Epoch 14/100\n",
      "5/5 [==============================] - 1s 275ms/step - loss: 0.3566 - accuracy: 0.8862 - val_loss: 2.2573 - val_accuracy: 0.4196\n",
      "Epoch 15/100\n",
      "5/5 [==============================] - 1s 203ms/step - loss: 0.3139 - accuracy: 0.9013 - val_loss: 2.1999 - val_accuracy: 0.5393\n",
      "Epoch 16/100\n",
      "5/5 [==============================] - 1s 220ms/step - loss: 0.2627 - accuracy: 0.9259 - val_loss: 2.5151 - val_accuracy: 0.5429\n",
      "Epoch 17/100\n",
      "5/5 [==============================] - 1s 233ms/step - loss: 0.2318 - accuracy: 0.9326 - val_loss: 2.4961 - val_accuracy: 0.4714\n",
      "Epoch 18/100\n",
      "5/5 [==============================] - 1s 191ms/step - loss: 0.2070 - accuracy: 0.9469 - val_loss: 2.5729 - val_accuracy: 0.5036\n",
      "Epoch 19/100\n",
      "5/5 [==============================] - 1s 226ms/step - loss: 0.1744 - accuracy: 0.9531 - val_loss: 2.2003 - val_accuracy: 0.5946\n",
      "Epoch 20/100\n",
      "5/5 [==============================] - 1s 172ms/step - loss: 0.1422 - accuracy: 0.9638 - val_loss: 2.0227 - val_accuracy: 0.5679\n",
      "Epoch 21/100\n",
      "5/5 [==============================] - 1s 193ms/step - loss: 0.1466 - accuracy: 0.9571 - val_loss: 2.0326 - val_accuracy: 0.5946\n",
      "Epoch 22/100\n",
      "5/5 [==============================] - 1s 196ms/step - loss: 0.1354 - accuracy: 0.9616 - val_loss: 2.0110 - val_accuracy: 0.6357\n",
      "Epoch 23/100\n",
      "5/5 [==============================] - 1s 187ms/step - loss: 0.1232 - accuracy: 0.9638 - val_loss: 2.2822 - val_accuracy: 0.6429\n",
      "Epoch 24/100\n",
      "5/5 [==============================] - 1s 212ms/step - loss: 0.1068 - accuracy: 0.9701 - val_loss: 2.3918 - val_accuracy: 0.6089\n",
      "Epoch 25/100\n",
      "5/5 [==============================] - 1s 188ms/step - loss: 0.1041 - accuracy: 0.9714 - val_loss: 2.2805 - val_accuracy: 0.5911\n",
      "Epoch 26/100\n",
      "5/5 [==============================] - 1s 215ms/step - loss: 0.1032 - accuracy: 0.9701 - val_loss: 2.1010 - val_accuracy: 0.6750\n",
      "Epoch 27/100\n",
      "5/5 [==============================] - 1s 214ms/step - loss: 0.0946 - accuracy: 0.9737 - val_loss: 2.4757 - val_accuracy: 0.6446\n",
      "Epoch 28/100\n",
      "5/5 [==============================] - 1s 208ms/step - loss: 0.0835 - accuracy: 0.9768 - val_loss: 2.7100 - val_accuracy: 0.5625\n",
      "Epoch 29/100\n",
      "5/5 [==============================] - 1s 176ms/step - loss: 0.0951 - accuracy: 0.9728 - val_loss: 2.3211 - val_accuracy: 0.6750\n",
      "Epoch 30/100\n",
      "5/5 [==============================] - 1s 185ms/step - loss: 0.0803 - accuracy: 0.9737 - val_loss: 2.1794 - val_accuracy: 0.6304\n",
      "Epoch 31/100\n",
      "5/5 [==============================] - 1s 223ms/step - loss: 0.0725 - accuracy: 0.9781 - val_loss: 2.4449 - val_accuracy: 0.6393\n",
      "Epoch 32/100\n",
      "5/5 [==============================] - 1s 179ms/step - loss: 0.0821 - accuracy: 0.9759 - val_loss: 2.2739 - val_accuracy: 0.6482\n",
      "Epoch 33/100\n",
      "5/5 [==============================] - 1s 229ms/step - loss: 0.0796 - accuracy: 0.9786 - val_loss: 2.2402 - val_accuracy: 0.6625\n",
      "Epoch 34/100\n",
      "5/5 [==============================] - 1s 209ms/step - loss: 0.0588 - accuracy: 0.9839 - val_loss: 2.5125 - val_accuracy: 0.6304\n",
      "Epoch 35/100\n",
      "5/5 [==============================] - 1s 190ms/step - loss: 0.0646 - accuracy: 0.9795 - val_loss: 2.4893 - val_accuracy: 0.6643\n",
      "Epoch 36/100\n",
      "5/5 [==============================] - 1s 179ms/step - loss: 0.0577 - accuracy: 0.9821 - val_loss: 2.9250 - val_accuracy: 0.5393\n",
      "Epoch 37/100\n",
      "5/5 [==============================] - 1s 187ms/step - loss: 0.0647 - accuracy: 0.9817 - val_loss: 2.5754 - val_accuracy: 0.6804\n",
      "Epoch 38/100\n",
      "5/5 [==============================] - 1s 203ms/step - loss: 0.0613 - accuracy: 0.9781 - val_loss: 2.8998 - val_accuracy: 0.5946\n",
      "Epoch 39/100\n",
      "5/5 [==============================] - 1s 209ms/step - loss: 0.0630 - accuracy: 0.9812 - val_loss: 2.9274 - val_accuracy: 0.6107\n",
      "Epoch 40/100\n",
      "5/5 [==============================] - 1s 193ms/step - loss: 0.0599 - accuracy: 0.9812 - val_loss: 2.7076 - val_accuracy: 0.6339\n",
      "Epoch 41/100\n",
      "5/5 [==============================] - 1s 256ms/step - loss: 0.0477 - accuracy: 0.9862 - val_loss: 2.5971 - val_accuracy: 0.6196\n",
      "Epoch 42/100\n",
      "5/5 [==============================] - 1s 242ms/step - loss: 0.0521 - accuracy: 0.9844 - val_loss: 2.0180 - val_accuracy: 0.6696\n",
      "Epoch 43/100\n",
      "5/5 [==============================] - 1s 212ms/step - loss: 0.0662 - accuracy: 0.9821 - val_loss: 3.1408 - val_accuracy: 0.5536\n",
      "Epoch 44/100\n",
      "5/5 [==============================] - 1s 193ms/step - loss: 0.0567 - accuracy: 0.9821 - val_loss: 2.5196 - val_accuracy: 0.6339\n",
      "Epoch 45/100\n",
      "5/5 [==============================] - 1s 222ms/step - loss: 0.0465 - accuracy: 0.9839 - val_loss: 2.6849 - val_accuracy: 0.5875\n",
      "Epoch 46/100\n",
      "5/5 [==============================] - 1s 200ms/step - loss: 0.0357 - accuracy: 0.9920 - val_loss: 2.3981 - val_accuracy: 0.6536\n",
      "Epoch 47/100\n",
      "5/5 [==============================] - 1s 199ms/step - loss: 0.0352 - accuracy: 0.9888 - val_loss: 2.6762 - val_accuracy: 0.6304\n",
      "Epoch 48/100\n",
      "5/5 [==============================] - 1s 215ms/step - loss: 0.0340 - accuracy: 0.9866 - val_loss: 2.8497 - val_accuracy: 0.6607\n",
      "Epoch 49/100\n",
      "5/5 [==============================] - 1s 193ms/step - loss: 0.0360 - accuracy: 0.9897 - val_loss: 3.3298 - val_accuracy: 0.5536\n",
      "Epoch 50/100\n",
      "5/5 [==============================] - 1s 189ms/step - loss: 0.0389 - accuracy: 0.9879 - val_loss: 3.1768 - val_accuracy: 0.6375\n",
      "Epoch 51/100\n",
      "5/5 [==============================] - 1s 222ms/step - loss: 0.0323 - accuracy: 0.9906 - val_loss: 2.8294 - val_accuracy: 0.6089\n",
      "Epoch 52/100\n",
      "5/5 [==============================] - 1s 180ms/step - loss: 0.0301 - accuracy: 0.9911 - val_loss: 2.6713 - val_accuracy: 0.6750\n",
      "Epoch 53/100\n",
      "5/5 [==============================] - 1s 181ms/step - loss: 0.0313 - accuracy: 0.9933 - val_loss: 2.5527 - val_accuracy: 0.6750\n",
      "Epoch 54/100\n",
      "5/5 [==============================] - 1s 166ms/step - loss: 0.0235 - accuracy: 0.9929 - val_loss: 2.9065 - val_accuracy: 0.6321\n",
      "Epoch 55/100\n",
      "5/5 [==============================] - 1s 208ms/step - loss: 0.0239 - accuracy: 0.9933 - val_loss: 2.7045 - val_accuracy: 0.6482\n",
      "Epoch 56/100\n",
      "5/5 [==============================] - 1s 212ms/step - loss: 0.0244 - accuracy: 0.9924 - val_loss: 2.9292 - val_accuracy: 0.6321\n",
      "Epoch 57/100\n",
      "5/5 [==============================] - 1s 208ms/step - loss: 0.0243 - accuracy: 0.9946 - val_loss: 2.8587 - val_accuracy: 0.6589\n",
      "Epoch 58/100\n",
      "5/5 [==============================] - 1s 232ms/step - loss: 0.0240 - accuracy: 0.9929 - val_loss: 3.0216 - val_accuracy: 0.6304\n"
     ]
    },
    {
     "name": "stdout",
     "output_type": "stream",
     "text": [
      "Epoch 59/100\n",
      "5/5 [==============================] - 1s 222ms/step - loss: 0.0176 - accuracy: 0.9960 - val_loss: 2.9924 - val_accuracy: 0.6500\n",
      "Epoch 60/100\n",
      "5/5 [==============================] - 1s 212ms/step - loss: 0.0226 - accuracy: 0.9929 - val_loss: 3.0694 - val_accuracy: 0.6446\n",
      "Epoch 61/100\n",
      "5/5 [==============================] - 1s 178ms/step - loss: 0.0173 - accuracy: 0.9946 - val_loss: 2.9829 - val_accuracy: 0.6196\n",
      "Epoch 62/100\n",
      "5/5 [==============================] - 1s 242ms/step - loss: 0.0131 - accuracy: 0.9973 - val_loss: 2.6957 - val_accuracy: 0.6786\n",
      "Epoch 63/100\n",
      "5/5 [==============================] - 1s 177ms/step - loss: 0.0192 - accuracy: 0.9937 - val_loss: 3.1597 - val_accuracy: 0.5964\n",
      "Epoch 64/100\n",
      "5/5 [==============================] - 1s 219ms/step - loss: 0.0199 - accuracy: 0.9915 - val_loss: 2.7920 - val_accuracy: 0.6643\n",
      "Epoch 65/100\n",
      "5/5 [==============================] - 1s 193ms/step - loss: 0.0182 - accuracy: 0.9937 - val_loss: 3.3030 - val_accuracy: 0.5839\n",
      "Epoch 66/100\n",
      "5/5 [==============================] - 1s 191ms/step - loss: 0.0150 - accuracy: 0.9964 - val_loss: 3.2082 - val_accuracy: 0.5982\n",
      "Epoch 67/100\n",
      "5/5 [==============================] - 1s 219ms/step - loss: 0.0168 - accuracy: 0.9951 - val_loss: 2.9320 - val_accuracy: 0.6446\n",
      "Epoch 68/100\n",
      "5/5 [==============================] - 1s 187ms/step - loss: 0.0145 - accuracy: 0.9969 - val_loss: 2.8807 - val_accuracy: 0.6393\n",
      "Epoch 69/100\n",
      "5/5 [==============================] - 1s 204ms/step - loss: 0.0133 - accuracy: 0.9960 - val_loss: 3.2600 - val_accuracy: 0.6464\n",
      "Epoch 70/100\n",
      "5/5 [==============================] - 1s 200ms/step - loss: 0.0198 - accuracy: 0.9924 - val_loss: 3.4474 - val_accuracy: 0.6250\n",
      "Epoch 71/100\n",
      "5/5 [==============================] - 1s 178ms/step - loss: 0.0348 - accuracy: 0.9884 - val_loss: 3.0638 - val_accuracy: 0.6607\n",
      "Epoch 72/100\n",
      "5/5 [==============================] - 1s 194ms/step - loss: 0.0118 - accuracy: 0.9964 - val_loss: 3.4784 - val_accuracy: 0.5625\n",
      "Epoch 73/100\n",
      "5/5 [==============================] - 1s 212ms/step - loss: 0.0178 - accuracy: 0.9955 - val_loss: 2.8011 - val_accuracy: 0.6732\n",
      "Epoch 74/100\n",
      "5/5 [==============================] - 1s 191ms/step - loss: 0.0117 - accuracy: 0.9960 - val_loss: 3.1812 - val_accuracy: 0.6018\n",
      "Epoch 75/100\n",
      "5/5 [==============================] - 1s 209ms/step - loss: 0.0145 - accuracy: 0.9955 - val_loss: 2.8047 - val_accuracy: 0.6607\n",
      "Epoch 76/100\n",
      "5/5 [==============================] - 1s 187ms/step - loss: 0.0106 - accuracy: 0.9964 - val_loss: 2.7151 - val_accuracy: 0.6714\n",
      "Epoch 77/100\n",
      "5/5 [==============================] - 1s 214ms/step - loss: 0.0083 - accuracy: 0.9978 - val_loss: 2.7366 - val_accuracy: 0.6464\n",
      "Epoch 78/100\n",
      "5/5 [==============================] - 1s 206ms/step - loss: 0.0076 - accuracy: 0.9987 - val_loss: 2.9603 - val_accuracy: 0.6661\n",
      "Epoch 79/100\n",
      "5/5 [==============================] - 1s 176ms/step - loss: 0.0084 - accuracy: 0.9982 - val_loss: 3.3926 - val_accuracy: 0.6446\n",
      "Epoch 80/100\n",
      "5/5 [==============================] - 1s 193ms/step - loss: 0.0101 - accuracy: 0.9987 - val_loss: 2.8566 - val_accuracy: 0.6393\n",
      "Epoch 81/100\n",
      "5/5 [==============================] - 1s 214ms/step - loss: 0.0139 - accuracy: 0.9964 - val_loss: 3.2677 - val_accuracy: 0.6696\n",
      "Epoch 82/100\n",
      "5/5 [==============================] - 1s 194ms/step - loss: 0.0205 - accuracy: 0.9937 - val_loss: 2.8206 - val_accuracy: 0.6304\n",
      "Epoch 83/100\n",
      "5/5 [==============================] - 1s 218ms/step - loss: 0.0235 - accuracy: 0.9946 - val_loss: 3.0053 - val_accuracy: 0.6857\n",
      "Epoch 84/100\n",
      "5/5 [==============================] - 1s 186ms/step - loss: 0.0127 - accuracy: 0.9969 - val_loss: 3.5670 - val_accuracy: 0.6286\n",
      "Epoch 85/100\n",
      "5/5 [==============================] - 1s 203ms/step - loss: 0.0122 - accuracy: 0.9964 - val_loss: 3.7039 - val_accuracy: 0.6375\n",
      "Epoch 86/100\n",
      "5/5 [==============================] - 1s 200ms/step - loss: 0.0200 - accuracy: 0.9929 - val_loss: 4.1064 - val_accuracy: 0.5446\n",
      "Epoch 87/100\n",
      "5/5 [==============================] - 1s 183ms/step - loss: 0.0121 - accuracy: 0.9969 - val_loss: 3.5690 - val_accuracy: 0.6500\n",
      "Epoch 88/100\n",
      "5/5 [==============================] - 1s 218ms/step - loss: 0.0171 - accuracy: 0.9951 - val_loss: 4.0626 - val_accuracy: 0.5804\n",
      "Epoch 89/100\n",
      "5/5 [==============================] - 1s 207ms/step - loss: 0.0130 - accuracy: 0.9973 - val_loss: 3.8028 - val_accuracy: 0.6429\n",
      "Epoch 90/100\n",
      "5/5 [==============================] - 1s 191ms/step - loss: 0.0052 - accuracy: 0.9996 - val_loss: 3.7837 - val_accuracy: 0.6304\n",
      "Epoch 91/100\n",
      "5/5 [==============================] - 1s 226ms/step - loss: 0.0064 - accuracy: 0.9987 - val_loss: 3.5957 - val_accuracy: 0.6393\n",
      "Epoch 92/100\n",
      "5/5 [==============================] - 1s 196ms/step - loss: 0.0053 - accuracy: 0.9996 - val_loss: 3.0825 - val_accuracy: 0.6768\n",
      "Epoch 93/100\n",
      "5/5 [==============================] - 1s 193ms/step - loss: 0.0073 - accuracy: 0.9982 - val_loss: 3.2138 - val_accuracy: 0.6518\n",
      "Epoch 94/100\n",
      "5/5 [==============================] - 1s 202ms/step - loss: 0.0098 - accuracy: 0.9973 - val_loss: 3.3091 - val_accuracy: 0.6554\n",
      "Epoch 95/100\n",
      "5/5 [==============================] - 1s 205ms/step - loss: 0.0138 - accuracy: 0.9955 - val_loss: 3.4346 - val_accuracy: 0.6571\n",
      "Epoch 96/100\n",
      "5/5 [==============================] - 1s 209ms/step - loss: 0.0151 - accuracy: 0.9973 - val_loss: 3.9551 - val_accuracy: 0.5893\n",
      "Epoch 97/100\n",
      "5/5 [==============================] - 1s 230ms/step - loss: 0.0135 - accuracy: 0.9964 - val_loss: 3.7499 - val_accuracy: 0.6357\n",
      "Epoch 98/100\n",
      "5/5 [==============================] - 1s 190ms/step - loss: 0.0063 - accuracy: 0.9987 - val_loss: 3.7453 - val_accuracy: 0.6089\n",
      "Epoch 99/100\n",
      "5/5 [==============================] - 1s 219ms/step - loss: 0.0093 - accuracy: 0.9978 - val_loss: 4.0243 - val_accuracy: 0.6125\n",
      "Epoch 100/100\n",
      "5/5 [==============================] - 1s 198ms/step - loss: 0.0168 - accuracy: 0.9951 - val_loss: 3.8515 - val_accuracy: 0.5661\n"
     ]
    }
   ],
   "source": [
    "\n",
    "history=model.fit(X,y,validation_split=0.2,epochs=100,batch_size=512,shuffle=True)"
   ]
  },
  {
   "cell_type": "code",
   "execution_count": 41,
   "id": "f9a6aab3",
   "metadata": {},
   "outputs": [],
   "source": [
    "def predict_emotion(filepath):\n",
    "    # Load audio file and extract MFCC features\n",
    "    mfcc = extract_mfcc(filepath)\n",
    "    mfcc = np.expand_dims(mfcc, axis=0)\n",
    "    mfcc = np.expand_dims(mfcc, axis=-1)\n",
    "\n",
    "    # Make prediction\n",
    "    prediction = model.predict(mfcc)\n",
    "    emotion_labels = [\"angry\", \"disgust\", \"fear\", \"happy\", \"neutral\", \"sad\", \"surprise\"]\n",
    "    predicted_emotion = emotion_labels[np.argmax(prediction)]\n",
    "\n",
    "    return predicted_emotion\n"
   ]
  },
  {
   "cell_type": "code",
   "execution_count": 42,
   "id": "16d3a5da",
   "metadata": {},
   "outputs": [
    {
     "name": "stdout",
     "output_type": "stream",
     "text": [
      "1/1 [==============================] - 0s 486ms/step\n",
      "Predicted emotion: angry\n"
     ]
    }
   ],
   "source": [
    "file_path = \"Dataset/YAF_angry/YAF_youth_angry.wav\"\n",
    "predicted_emotion = predict_emotion(file_path)\n",
    "print(\"Predicted emotion:\", predicted_emotion)\n"
   ]
  },
  {
   "cell_type": "code",
   "execution_count": 24,
   "id": "a54bdd07",
   "metadata": {},
   "outputs": [
    {
     "name": "stderr",
     "output_type": "stream",
     "text": [
      "WARNING:absl:Found untraced functions such as lstm_cell_layer_call_fn, lstm_cell_layer_call_and_return_conditional_losses while saving (showing 2 of 2). These functions will not be directly callable after loading.\n"
     ]
    },
    {
     "name": "stdout",
     "output_type": "stream",
     "text": [
      "INFO:tensorflow:Assets written to: ram://ac819fbf-5477-4587-baac-c1f225d11a09/assets\n"
     ]
    },
    {
     "name": "stderr",
     "output_type": "stream",
     "text": [
      "INFO:tensorflow:Assets written to: ram://ac819fbf-5477-4587-baac-c1f225d11a09/assets\n"
     ]
    }
   ],
   "source": [
    "import pickle\n",
    "pickle.dump(model, open('model.pkl', 'wb'))"
   ]
  },
  {
   "cell_type": "code",
   "execution_count": 24,
   "id": "72a06971",
   "metadata": {},
   "outputs": [
    {
     "name": "stdout",
     "output_type": "stream",
     "text": [
      "Collecting pyaudio\n",
      "  Downloading PyAudio-0.2.13-cp39-cp39-win_amd64.whl (164 kB)\n",
      "Installing collected packages: pyaudio\n",
      "Successfully installed pyaudio-0.2.13\n"
     ]
    }
   ],
   "source": [
    "!pip install pyaudio"
   ]
  },
  {
   "cell_type": "code",
   "execution_count": 44,
   "id": "0f9964a2",
   "metadata": {},
   "outputs": [
    {
     "name": "stdout",
     "output_type": "stream",
     "text": [
      " * Serving Flask app \"__main__\" (lazy loading)\n",
      " * Environment: production\n",
      "\u001b[31m   WARNING: This is a development server. Do not use it in a production deployment.\u001b[0m\n",
      "\u001b[2m   Use a production WSGI server instead.\u001b[0m\n",
      " * Debug mode: off\n"
     ]
    },
    {
     "name": "stderr",
     "output_type": "stream",
     "text": [
      "INFO:werkzeug: * Running on http://127.0.0.1:5000/ (Press CTRL+C to quit)\n",
      "INFO:werkzeug:127.0.0.1 - - [14/Feb/2024 23:11:36] \"GET / HTTP/1.1\" 200 -\n"
     ]
    },
    {
     "name": "stdout",
     "output_type": "stream",
     "text": [
      "1/1 [==============================] - 0s 26ms/step\n"
     ]
    },
    {
     "name": "stderr",
     "output_type": "stream",
     "text": [
      "INFO:werkzeug:127.0.0.1 - - [14/Feb/2024 23:11:42] \"POST /upload HTTP/1.1\" 200 -\n"
     ]
    },
    {
     "name": "stdout",
     "output_type": "stream",
     "text": [
      "1/1 [==============================] - 0s 30ms/step\n"
     ]
    },
    {
     "name": "stderr",
     "output_type": "stream",
     "text": [
      "INFO:werkzeug:127.0.0.1 - - [14/Feb/2024 23:11:54] \"POST /upload HTTP/1.1\" 200 -\n"
     ]
    },
    {
     "name": "stdout",
     "output_type": "stream",
     "text": [
      "1/1 [==============================] - 0s 21ms/step\n"
     ]
    },
    {
     "name": "stderr",
     "output_type": "stream",
     "text": [
      "INFO:werkzeug:127.0.0.1 - - [14/Feb/2024 23:12:04] \"POST /upload HTTP/1.1\" 200 -\n"
     ]
    }
   ],
   "source": [
    "# from flask import Flask, render_template, request\n",
    "# app = Flask(__name__)\n",
    "\n",
    "\n",
    "# @app.route('/')\n",
    "# def index():\n",
    "#     return render_template('index.html')\n",
    "\n",
    "# @app.route('/upload', methods=['POST','GET'])\n",
    "# def upload():\n",
    "#     audio = request.files['audio']\n",
    "    \n",
    "\n",
    "# # Predict emotion from recorded audio\n",
    "#     predicted_emotion = predict_emotion(audio)\n",
    "#     return render_template('index.html',prediction=predicted_emotion)\n",
    "\n",
    "# if __name__ == '__main__':\n",
    "#     app.run()\n",
    "from logging import FileHandler,WARNING\n",
    "from flask import Flask, render_template, request\n",
    "\n",
    "# app = Flask(__name__)\n",
    "app = Flask(__name__, template_folder=\"templates\")\n",
    "file_handler = FileHandler('errorlog.txt')\n",
    "file_handler.setLevel(WARNING)\n",
    "\n",
    "\n",
    "\n",
    "\n",
    "@app.route('/')\n",
    "def index():\n",
    "    return render_template('index.html')\n",
    "\n",
    "@app.route('/upload', methods=['POST','GET'])\n",
    "def upload():\n",
    "    if request.method == 'POST':\n",
    "        if 'audio' not in request.files:\n",
    "            return render_template('index.html', error='No file part')\n",
    "        audio = request.files['audio']\n",
    "        if audio.filename == '':\n",
    "            return render_template('index.html', error='No selected file')\n",
    "        predicted_emotion = predict_emotion(audio)\n",
    "        return render_template('index.html', prediction=predicted_emotion)\n",
    "    return render_template('index.html')\n",
    "\n",
    "app.run()\n",
    "\n",
    "\n"
   ]
  },
  {
   "cell_type": "code",
   "execution_count": null,
   "id": "979c9dda",
   "metadata": {},
   "outputs": [
    {
     "name": "stdout",
     "output_type": "stream",
     "text": [
      " * Serving Flask app \"__main__\" (lazy loading)\n",
      " * Environment: production\n",
      "\u001b[31m   WARNING: This is a development server. Do not use it in a production deployment.\u001b[0m\n",
      "\u001b[2m   Use a production WSGI server instead.\u001b[0m\n",
      " * Debug mode: off\n"
     ]
    },
    {
     "name": "stderr",
     "output_type": "stream",
     "text": [
      " * Running on http://127.0.0.1:5000/ (Press CTRL+C to quit)\n"
     ]
    }
   ],
   "source": [
    "from flask import Flask, render_template, request\n",
    "\n",
    "# app = Flask(__name__)\n",
    "app = Flask(__name__,)\n",
    "# file_handler = FileHandler('errorlog.txt')\n",
    "# file_handler.setLevel(WARNING)\n",
    "\n",
    "\n",
    "\n",
    "\n",
    "@app.route('/')\n",
    "def index():\n",
    "    return render_template('index.html')\n",
    "\n",
    "@app.route('/upload', methods=['POST','GET'])\n",
    "def upload():\n",
    "    if request.method == 'POST':\n",
    "        if 'audio' not in request.files:\n",
    "            return render_template('index.html', error='No file part')\n",
    "        audio = request.files['audio']\n",
    "        if audio.filename == '':\n",
    "            return render_template('index.html', error='No selected file')\n",
    "        predicted_emotion = predict_emotion(audio)\n",
    "        return render_template('index.html', prediction=predicted_emotion)\n",
    "    return render_template('index.html')\n",
    "\n",
    "app.run()\n"
   ]
  },
  {
   "cell_type": "code",
   "execution_count": null,
   "id": "41e996bb",
   "metadata": {},
   "outputs": [],
   "source": []
  }
 ],
 "metadata": {
  "kernelspec": {
   "display_name": "Python 3 (ipykernel)",
   "language": "python",
   "name": "python3"
  },
  "language_info": {
   "codemirror_mode": {
    "name": "ipython",
    "version": 3
   },
   "file_extension": ".py",
   "mimetype": "text/x-python",
   "name": "python",
   "nbconvert_exporter": "python",
   "pygments_lexer": "ipython3",
   "version": "3.9.12"
  }
 },
 "nbformat": 4,
 "nbformat_minor": 5
}
